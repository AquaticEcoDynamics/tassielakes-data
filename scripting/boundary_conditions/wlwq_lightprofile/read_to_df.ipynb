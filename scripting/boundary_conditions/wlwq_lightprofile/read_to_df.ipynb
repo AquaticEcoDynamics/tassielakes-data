{
 "cells": [
  {
   "cell_type": "code",
   "execution_count": 1,
   "metadata": {},
   "outputs": [],
   "source": [
    "# Read csv into a pandas dataframe\n",
    "\n",
    "import pandas as pd\n",
    "\n",
    "url = \"https://github.com/AquaticEcoDynamics/tassielakes-data/raw/main/data-lake/HT/WaterQuality/462_WoodsLake_LightProfile.csv\"\n",
    "\n",
    "df = pd.read_csv(url, encoding = 'unicode_escape')\n",
    "\n",
    "df = df.iloc[55:,:]\n",
    "\n",
    "df = df.reset_index(drop=True)"
   ]
  },
  {
   "cell_type": "code",
   "execution_count": 2,
   "metadata": {},
   "outputs": [
    {
     "name": "stdout",
     "output_type": "stream",
     "text": [
      "                Params.Name         Params.Units\n",
      "0     Transparency - Secchi               Metres\n",
      "1     Transparency - Secchi               Metres\n",
      "2     Transparency - Secchi               Metres\n",
      "3     Transparency - Secchi               Metres\n",
      "4     Transparency - Secchi               Metres\n",
      "...                     ...                  ...\n",
      "1838   PAR omni-directional  µmol photons/m²/sec\n",
      "1839   PAR omni-directional  µmol photons/m²/sec\n",
      "1840   PAR omni-directional  µmol photons/m²/sec\n",
      "1841   PAR omni-directional  µmol photons/m²/sec\n",
      "1842   PAR omni-directional  µmol photons/m²/sec\n",
      "\n",
      "[1843 rows x 2 columns]\n"
     ]
    }
   ],
   "source": [
    "# Create a csv with unique variables\n",
    "\n",
    "variables = df.loc[:,[\"Params.Name\",\"Params.Units\"]]\n",
    "print(variables)\n",
    "\n",
    "unique_variables = variables.drop_duplicates()\n",
    "\n",
    "unique_variables = unique_variables.sort_values(by=\"Params.Name\")\n",
    "#print(unique_variables)"
   ]
  },
  {
   "cell_type": "code",
   "execution_count": 3,
   "metadata": {},
   "outputs": [],
   "source": [
    "# Write unique variables to csv file\n",
    "\n",
    "unique_variables = unique_variables.reset_index(drop=True)\n",
    "\n",
    "unique_variables.to_csv('variables.csv', index=True)"
   ]
  }
 ],
 "metadata": {
  "kernelspec": {
   "display_name": "Python 3",
   "language": "python",
   "name": "python3"
  },
  "language_info": {
   "codemirror_mode": {
    "name": "ipython",
    "version": 3
   },
   "file_extension": ".py",
   "mimetype": "text/x-python",
   "name": "python",
   "nbconvert_exporter": "python",
   "pygments_lexer": "ipython3",
   "version": "3.11.5"
  }
 },
 "nbformat": 4,
 "nbformat_minor": 2
}
