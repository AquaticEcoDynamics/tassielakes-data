{
 "cells": [
  {
   "cell_type": "code",
   "execution_count": 3,
   "metadata": {},
   "outputs": [
    {
     "name": "stderr",
     "output_type": "stream",
     "text": [
      "/var/folders/bw/k9zj3x2s7fj89p6_lfwvpc440000gn/T/ipykernel_50934/663305946.py:12: DtypeWarning: Columns (0) have mixed types. Specify dtype option on import or set low_memory=False.\n",
      "  df = pd.read_csv(file, header=None, encoding='unicode_escape')\n"
     ]
    },
    {
     "name": "stdout",
     "output_type": "stream",
     "text": [
      "WoodsLakeMiddle_HeterocyteVegetativecellratio_profile_Data.csv\n"
     ]
    }
   ],
   "source": [
    "import pandas as pd\n",
    "import re\n",
    "import os\n",
    "import numpy as np\n",
    "\n",
    "file = '../../../data-lake/HT/BG Algae/heterocyte_vegetative_cell_ratio.csv'\n",
    "\n",
    "# Load the mapping keys\n",
    "mapping_keys_df = pd.read_csv(\"mapping_keys.csv\")\n",
    "\n",
    "def process_data(file):\n",
    "    df = pd.read_csv(file, header=None, encoding='unicode_escape')\n",
    "    df = df.reset_index(drop=True)\n",
    "\n",
    "    # Extract Date and Time\n",
    "    df['Date'] = df[0] + ' ' + '00:00:00'\n",
    "    \n",
    "    # Extract Data value\n",
    "    df['Data'] = df[1]\n",
    "    \n",
    "    # Drop the original 'Raw' column\n",
    "    df = df[['Date', 'Data']]\n",
    "\n",
    "    # Set values for Depth and QC\n",
    "    df['Depth'] = 0\n",
    "    df[\"QC\"] = \"N\"\n",
    "    \n",
    "    # Convert 'Data' to numeric\n",
    "    df['Data'] = pd.to_numeric(df['Data'], errors='coerce')\n",
    "    \n",
    "    df['Date'] = df['Date'].apply(pd.to_datetime, format='%d/%m/%Y %H:%M:%S', errors='coerce')\n",
    "    df = df.sort_values(by='Date')\n",
    "    df = df.dropna(subset=[\"Date\"])\n",
    "\n",
    "    df['Variable'] = 'heterocyte_vegetative_cell_ratio'\n",
    "    #print(df)\n",
    "    \n",
    "    return df\n",
    "\n",
    "def filter_and_save_data(df, variable_name, output_filename):\n",
    "    # Filter rows where the variable is equal to the specified variable_name\n",
    "    variable_data = df.loc[df['Variable'] == variable_name]\n",
    "    #print(variable_data)\n",
    "\n",
    "    # Extract columns needed for the filtered data\n",
    "    filtered_data = variable_data.loc[:, [\"Variable\", \"Date\", \"Depth\", \"Data\", \"QC\"]]\n",
    "\n",
    "    # Replace empty cells with NaN\n",
    "    filtered_data.replace(\"\", np.nan, inplace=True)\n",
    "\n",
    "    # Convert value of different units\n",
    "    if variable_name in mapping_keys_df['Params.Name'].values:\n",
    "        conv_factor = mapping_keys_df.loc[mapping_keys_df['Params.Name'] == variable_name, 'Conv'].iloc[0]\n",
    "        filtered_data['Data'] = pd.to_numeric(filtered_data['Data'], errors='coerce')  # Convert non-numeric values to NaN\n",
    "        filtered_data['Data'] *= conv_factor\n",
    "\n",
    "    # Specify the directory path\n",
    "    directory = '../../../data-warehouse/csv/ht/wlwq'\n",
    "    \n",
    "    # Create the directory if it doesn't exist\n",
    "    if not os.path.exists(directory):\n",
    "        os.makedirs(directory)\n",
    "\n",
    "    # Write the filtered DataFrame to a CSV file in the specified directory\n",
    "    filtered_data.to_csv(os.path.join(directory, output_filename), index=False)\n",
    "\n",
    "# Specify the variables needed\n",
    "first_column = mapping_keys_df.iloc[:, 0]\n",
    "first_column.values.tolist()\n",
    "\n",
    "# Process the data for the current file\n",
    "df = process_data(file)\n",
    "\n",
    "# Replace empty cells with NaN\n",
    "df.replace(\"\", np.nan, inplace=True)\n",
    "\n",
    "variable = df['Variable'].values[0]\n",
    "# Filter mapping_keys_df to find the row corresponding to the variable\n",
    "key_row = mapping_keys_df[mapping_keys_df['Params.Name'] == variable]\n",
    "\n",
    "# Extract the key value from the row\n",
    "key_value = key_row['Key Value'].values[0] if not key_row.empty else None\n",
    "\n",
    "# Construct the output filename\n",
    "output_filename = f'WoodsLakeMiddle_{key_value.replace(\" \", \"\")}_profile_Data.csv'\n",
    "print(output_filename)\n",
    "\n",
    "# Filter and save data\n",
    "filter_and_save_data(df, variable, output_filename)\n"
   ]
  }
 ],
 "metadata": {
  "kernelspec": {
   "display_name": "Python 3",
   "language": "python",
   "name": "python3"
  },
  "language_info": {
   "codemirror_mode": {
    "name": "ipython",
    "version": 3
   },
   "file_extension": ".py",
   "mimetype": "text/x-python",
   "name": "python",
   "nbconvert_exporter": "python",
   "pygments_lexer": "ipython3",
   "version": "3.11.5"
  }
 },
 "nbformat": 4,
 "nbformat_minor": 2
}
