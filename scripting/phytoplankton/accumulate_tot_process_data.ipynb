{
 "cells": [
  {
   "cell_type": "code",
   "execution_count": 21,
   "metadata": {},
   "outputs": [
    {
     "name": "stdout",
     "output_type": "stream",
     "text": [
      "                               Variable                 Date  Depth  Data  QC\n",
      "0         Bacillariophyta (Ulnaria sp.)  2022-12-14 14:55:00    0.2   1.0   4\n",
      "1         Bacillariophyta (Ulnaria sp.)  2023-08-02 12:20:00    0.2   1.0   4\n",
      "2         Bacillariophyta (Ulnaria sp.)  2023-08-23 12:00:00    0.2   1.0   4\n",
      "3         Bacillariophyta (Ulnaria sp.)  2023-09-28 12:30:00    0.2   1.0   4\n",
      "4      Bacillariophyta (Achnanthes sp.)  2015-01-28 11:20:00    0.2   1.0   4\n",
      "..                                  ...                  ...    ...   ...  ..\n",
      "265      Bacillariophyta (Navicula sp.)  2015-01-28 11:20:00    0.2   1.0   4\n",
      "266      Bacillariophyta (Navicula sp.)  2015-02-23 12:39:00    0.2   1.0   4\n",
      "267      Bacillariophyta (Navicula sp.)  2015-04-28 13:20:00    0.2   1.0   4\n",
      "268      Bacillariophyta (Navicula sp.)  2015-05-14 09:56:00    0.2   1.0   4\n",
      "269  Bacillariophyta (Cymbella hauckii)  2015-05-14 09:56:00    0.2   1.0   4\n",
      "\n",
      "[270 rows x 5 columns]\n"
     ]
    }
   ],
   "source": [
    "import pandas as pd \n",
    "import os \n",
    "\n",
    "dir_name = \"../../data-warehouse/csv/ht/wlwq\"\n",
    "  \n",
    "# specifying an empty list for content \n",
    "df_list = [] \n",
    "\n",
    "# Iterate through files in the directory\n",
    "for file in os.listdir(dir_name): \n",
    "    # Check for 'Data' and 'Bacillariophyta' in the file name\n",
    "    if 'Data' in file and 'Bacillariophyta' in file:\n",
    "        df = pd.read_csv(os.path.join(dir_name, file))\n",
    "        df_list.append(df) \n",
    "\n",
    "# Concatenate all dataframes in the list\n",
    "final_content = pd.concat(df_list, ignore_index=True)\n",
    "\n",
    "print(final_content)"
   ]
  },
  {
   "cell_type": "code",
   "execution_count": 22,
   "metadata": {},
   "outputs": [
    {
     "name": "stdout",
     "output_type": "stream",
     "text": [
      "            Variable                 Date  Depth    Data  QC\n",
      "82   Bacillariophyta  2014-01-08 15:00:00    0.2    10.0   4\n",
      "5    Bacillariophyta  2014-05-12 13:45:00    0.2     1.0   4\n",
      "93   Bacillariophyta  2014-05-12 13:45:00    0.2    30.0   4\n",
      "125  Bacillariophyta  2014-05-12 13:45:00    0.2    70.0   4\n",
      "126  Bacillariophyta  2014-07-23 09:40:00    0.2  5700.0   4\n",
      "..               ...                  ...    ...     ...  ..\n",
      "77   Bacillariophyta  2024-01-25 11:20:00    0.2    76.0   4\n",
      "262  Bacillariophyta  2024-02-08 15:05:00    0.2  1000.0   4\n",
      "78   Bacillariophyta  2024-02-08 15:05:00    0.2  1300.0   4\n",
      "79   Bacillariophyta  2024-02-16 10:20:00    0.2   730.0   4\n",
      "263  Bacillariophyta  2024-02-16 10:20:00    0.2   950.0   4\n",
      "\n",
      "[270 rows x 5 columns]\n"
     ]
    }
   ],
   "source": [
    "df = final_content\n",
    "df['Variable'] = 'Bacillariophyta'\n",
    "\n",
    "df = df.sort_values(by='Date')\n",
    "print(df)"
   ]
  },
  {
   "cell_type": "code",
   "execution_count": 23,
   "metadata": {},
   "outputs": [
    {
     "name": "stdout",
     "output_type": "stream",
     "text": [
      "           Variable                 Date  Depth     Data   QC\n",
      "0   Bacillariophyta  2014-01-08 15:00:00    0.2     10.0  4.0\n",
      "1   Bacillariophyta  2014-05-12 13:45:00    0.2    101.0  4.0\n",
      "2   Bacillariophyta  2014-07-23 09:40:00    0.2   5702.0  4.0\n",
      "3   Bacillariophyta  2014-09-18 09:50:00    0.2  12000.0  4.0\n",
      "4   Bacillariophyta  2014-11-21 11:30:00    0.2      2.0  4.0\n",
      "..              ...                  ...    ...      ...  ...\n",
      "91  Bacillariophyta  2024-01-08 14:55:00    0.2   2201.0  4.0\n",
      "92  Bacillariophyta  2024-01-18 15:30:00    0.2   1401.0  4.0\n",
      "93  Bacillariophyta  2024-01-25 11:20:00    0.2   1376.0  4.0\n",
      "94  Bacillariophyta  2024-02-08 15:05:00    0.2   2300.0  4.0\n",
      "95  Bacillariophyta  2024-02-16 10:20:00    0.2   1680.0  4.0\n",
      "\n",
      "[96 rows x 5 columns]\n"
     ]
    }
   ],
   "source": [
    "df = df.groupby('Date').agg({\n",
    "    'Variable': 'first',\n",
    "    'Depth': 'mean',\n",
    "    'Data': 'sum',\n",
    "    'QC': 'mean'\n",
    "}).reset_index()\n",
    "\n",
    "# Reorder columns to match the original order\n",
    "df = df[['Variable', 'Date', 'Depth', 'Data', 'QC']]\n",
    "\n",
    "print(df)"
   ]
  },
  {
   "cell_type": "code",
   "execution_count": null,
   "metadata": {},
   "outputs": [],
   "source": [
    "df.to_csv('WoodsLakeMiddle_Bacillariophyta_profile_Data.csv')"
   ]
  }
 ],
 "metadata": {
  "kernelspec": {
   "display_name": "Python 3",
   "language": "python",
   "name": "python3"
  },
  "language_info": {
   "codemirror_mode": {
    "name": "ipython",
    "version": 3
   },
   "file_extension": ".py",
   "mimetype": "text/x-python",
   "name": "python",
   "nbconvert_exporter": "python",
   "pygments_lexer": "ipython3",
   "version": "3.11.5"
  }
 },
 "nbformat": 4,
 "nbformat_minor": 2
}
