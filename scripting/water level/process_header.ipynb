{
 "cells": [
  {
   "cell_type": "code",
   "execution_count": 1,
   "metadata": {},
   "outputs": [],
   "source": [
    "import pandas as pd\n",
    "import os"
   ]
  },
  {
   "cell_type": "code",
   "execution_count": 3,
   "metadata": {},
   "outputs": [
    {
     "name": "stdout",
     "output_type": "stream",
     "text": [
      "ArthursLakeSpillway_WaterSurfaceHeight_profile_Header.csv\n"
     ]
    }
   ],
   "source": [
    "# specify constants\n",
    "AGENCY_NAME = \"Hydro Tasmania\"\n",
    "AGENCY_CODE = \"HT\"\n",
    "PROGRAM = \"Arthurs Lake WQ\"\n",
    "PROJECT = \"ALWQ\"\n",
    "TAG = \"HT-ALWQ\"\n",
    "LOCATION = \"data-lake/HT/Hydrology/Arthurs Lake Spillway (418.1)/\"\n",
    "STATION_STATUS = \"Active\"\n",
    "LAT = \"-41.985227\"\n",
    "LONG = \"146.992343\"\n",
    "TIME_ZONE = \"GMT +6\"\n",
    "VERT_DATUM = \"mAHD\"\n",
    "NATIONAL_STATION_ID = 418\n",
    "SITE_DESCRIPTION = 418\n",
    "DEPLOYMENT = \"Profile\"\n",
    "DEPLOYMENT_POSITION = \"m from Surface\"\n",
    "VERT_REF = \"Water Surface\"\n",
    "SITE_MEAN_DEPTH = \"\"\n",
    "BAD_VALUE = 'NaN'\n",
    "EMAIL = \"\"\n",
    "SAMPLING_RATE = \"\"\n",
    "DATE = \"yyyy-mm-dd HH:MM:SS\"\n",
    "DEPTH = \"Decimal\"\n",
    "QC = \"NaN\"\n",
    "\n",
    "mapping_keys_df = pd.read_csv(\"mapping_keys.csv\")\n",
    "\n",
    "directory = '../../data-warehouse/csv/ht/alwq'\n",
    "\n",
    "if not os.path.exists(directory):\n",
    "    os.makedirs(directory)\n",
    "\n",
    "for index, row in mapping_keys_df.iterrows():\n",
    "   \n",
    "    header_dict = {\n",
    "        \"Agency Name\": AGENCY_NAME,\n",
    "        \"Agency Code\": AGENCY_CODE,\n",
    "        \"Program\": PROGRAM,\n",
    "        \"Project\": PROJECT,\n",
    "        \"Tag\": TAG,\n",
    "        \"Data File Name\": f'{row[\"Params.Name\"]}.csv',\n",
    "        \"Location\": LOCATION,\n",
    "        \"Station Status\": STATION_STATUS,\n",
    "        \"Lat\": LAT,\n",
    "        \"Long\": LONG,\n",
    "        \"Time Zone\": TIME_ZONE,\n",
    "        \"Vertical Datum\": VERT_DATUM,\n",
    "        \"National Station ID\": NATIONAL_STATION_ID,\n",
    "        \"Site Description\": SITE_DESCRIPTION,\n",
    "        \"Deployment\": DEPLOYMENT,\n",
    "        \"Deployment Position\": DEPLOYMENT_POSITION,\n",
    "        \"Vertical Reference\": VERT_REF,\n",
    "        \"Site Mean Depth\": SITE_MEAN_DEPTH,\n",
    "        \"Bad or Unavailable Data Value\": BAD_VALUE,\n",
    "        \"Contact Email\": EMAIL,\n",
    "        \"Variable ID\": row[\"Key\"],\n",
    "        \"Data Category\": row[\"Category\"],\n",
    "        \"Sampling Rate (min)\": SAMPLING_RATE,\n",
    "        \"Date\": DATE,\n",
    "        \"Depth\": DEPTH,\n",
    "        \"Variable\": row[\"Params.Name\"],\n",
    "        \"QC\": QC\n",
    "    }\n",
    "    \n",
    "    file_name = f'ArthursLakeSpillway_{row[\"Key Value\"].replace(\" \", \"\")}_profile_Header.csv'\n",
    "    print(file_name)\n",
    "    file_path = os.path.join(directory, file_name)\n",
    "\n",
    "    header_df = pd.DataFrame({\"Header\": header_dict.keys(), \"Value\": header_dict.values()})\n",
    "    \n",
    "    header_df.to_csv(file_path, index=False)\n"
   ]
  }
 ],
 "metadata": {
  "kernelspec": {
   "display_name": "Python 3",
   "language": "python",
   "name": "python3"
  },
  "language_info": {
   "codemirror_mode": {
    "name": "ipython",
    "version": 3
   },
   "file_extension": ".py",
   "mimetype": "text/x-python",
   "name": "python",
   "nbconvert_exporter": "python",
   "pygments_lexer": "ipython3",
   "version": "3.11.5"
  }
 },
 "nbformat": 4,
 "nbformat_minor": 2
}
