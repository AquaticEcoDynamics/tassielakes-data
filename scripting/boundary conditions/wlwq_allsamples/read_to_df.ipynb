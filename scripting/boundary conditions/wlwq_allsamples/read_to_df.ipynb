{
 "cells": [
  {
   "cell_type": "code",
   "execution_count": 2,
   "metadata": {},
   "outputs": [],
   "source": [
    "# Read csv into a pandas dataframe\n",
    "\n",
    "import pandas as pd\n",
    "\n",
    "df = pd.read_csv('Woods Lake Middle AllData.csv', encoding = 'unicode_escape')\n",
    "\n",
    "df = df.iloc[57:,:]\n",
    "\n",
    "df = df.reset_index(drop=True)"
   ]
  },
  {
   "cell_type": "code",
   "execution_count": 3,
   "metadata": {},
   "outputs": [
    {
     "name": "stdout",
     "output_type": "stream",
     "text": [
      "                                 Params.Name  Params.Units\n",
      "0                                Params.Name  Params.Units\n",
      "1            Cyanobacteria (Aphanocapsa sp.)      cells/mL\n",
      "2          Bacillariophyta (Aulacoseira sp.)      cells/mL\n",
      "3         Cyanobacteria (Dolichospermum sp.)      cells/mL\n",
      "4           Bacillariophyta (Fragilaria sp.)      cells/mL\n",
      "...                                      ...           ...\n",
      "10258         Chlorophyll A (or Chlorophyll)          ug/L\n",
      "10259                          Chlorophyll B          ug/l\n",
      "10260                          Chlorophyll C          ug/L\n",
      "10261  Chlorophyll A (Phaeophytin Corrected)          ug/l\n",
      "10262                            Phaeophytin          ug/l\n",
      "\n",
      "[10263 rows x 2 columns]\n"
     ]
    }
   ],
   "source": [
    "# Create a csv with unique variables\n",
    "\n",
    "variables = df.loc[:,[\"Params.Name\",\"Params.Units\"]]\n",
    "print(variables)\n",
    "\n",
    "unique_variables = variables.drop_duplicates()\n",
    "\n",
    "unique_variables = unique_variables.sort_values(by=\"Params.Name\")\n",
    "#print(unique_variables)"
   ]
  },
  {
   "cell_type": "code",
   "execution_count": 20,
   "metadata": {},
   "outputs": [],
   "source": [
    "# Write unique variables to csv file\n",
    "\n",
    "unique_variables = unique_variables.reset_index(drop=True)\n",
    "\n",
    "unique_variables.to_csv('variables.csv', index=True)"
   ]
  }
 ],
 "metadata": {
  "kernelspec": {
   "display_name": "Python 3",
   "language": "python",
   "name": "python3"
  },
  "language_info": {
   "codemirror_mode": {
    "name": "ipython",
    "version": 3
   },
   "file_extension": ".py",
   "mimetype": "text/x-python",
   "name": "python",
   "nbconvert_exporter": "python",
   "pygments_lexer": "ipython3",
   "version": "3.11.5"
  }
 },
 "nbformat": 4,
 "nbformat_minor": 2
}
