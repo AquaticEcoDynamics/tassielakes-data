{
 "cells": [
  {
   "cell_type": "code",
   "execution_count": 1,
   "metadata": {},
   "outputs": [],
   "source": [
    "# Read csv into a pandas dataframe\n",
    "\n",
    "import pandas as pd\n",
    "\n",
    "df = pd.read_csv('WQSamples.csv', encoding = 'unicode_escape')"
   ]
  },
  {
   "cell_type": "code",
   "execution_count": 2,
   "metadata": {},
   "outputs": [
    {
     "name": "stdout",
     "output_type": "stream",
     "text": [
      "                                  Params.Name         Params.Units\n",
      "0              Suspended Solids - Total (TSS)                 mg/l\n",
      "1                                Nitrite as N                 mg/l\n",
      "2                                Nitrate as N                 mg/l\n",
      "3     Oxidised Nitrite + Nitrate - Total as N                 mg/L\n",
      "4                                Ammonia as N                 mg/l\n",
      "...                                       ...                  ...\n",
      "2488                                 pH field                  NaN\n",
      "2489                        Equipment voltage                Volts\n",
      "2490               Dissolved Oxygen (DO mg/l)                 mg/l\n",
      "2491                  Dissolved Oxygen (DO %)         % Saturation\n",
      "2492             PAR uni-directional in water  µmol photons/m²/sec\n",
      "\n",
      "[2493 rows x 2 columns]\n"
     ]
    }
   ],
   "source": [
    "# Create a csv with unique variables\n",
    "\n",
    "variables = df.loc[:,[\"Params.Name\",\"Params.Units\"]]\n",
    "print(variables)\n",
    "\n",
    "unique_variables = variables.drop_duplicates()\n",
    "\n",
    "unique_variables = unique_variables.sort_values(by=\"Params.Name\")\n",
    "#print(unique_variables)"
   ]
  },
  {
   "cell_type": "code",
   "execution_count": 3,
   "metadata": {},
   "outputs": [],
   "source": [
    "# Write unique variables to csv file\n",
    "\n",
    "unique_variables = unique_variables.reset_index(drop=True)\n",
    "\n",
    "unique_variables.to_csv('variables.csv', index=True)"
   ]
  }
 ],
 "metadata": {
  "kernelspec": {
   "display_name": "Python 3",
   "language": "python",
   "name": "python3"
  },
  "language_info": {
   "codemirror_mode": {
    "name": "ipython",
    "version": 3
   },
   "file_extension": ".py",
   "mimetype": "text/x-python",
   "name": "python",
   "nbconvert_exporter": "python",
   "pygments_lexer": "ipython3",
   "version": "3.11.5"
  }
 },
 "nbformat": 4,
 "nbformat_minor": 2
}
