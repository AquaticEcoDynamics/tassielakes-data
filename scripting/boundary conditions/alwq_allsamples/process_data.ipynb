{
 "cells": [
  {
   "cell_type": "code",
   "execution_count": 1,
   "metadata": {},
   "outputs": [],
   "source": [
    "# Read csv into a pandas dataframe\n",
    "\n",
    "import pandas as pd\n",
    "\n",
    "#df = pd.read_csv('Woods Lake Middle AllData.csv', encoding = 'unicode_escape')\n",
    "\n",
    "url = \"https://github.com/AquaticEcoDynamics/tassielakes-data/raw/main/data-lake/HT/Hydrology/Arthurs%20Lake%20Spillway%20(418.1)/WQ%20at%20Morass%20Bay%20(418.24)/Samples/WQSamples.csv\"\n",
    "\n",
    "df = pd.read_csv(url, encoding = 'unicode_escape')\n",
    "\n",
    "df = df.reset_index(drop=True)"
   ]
  },
  {
   "cell_type": "code",
   "execution_count": 2,
   "metadata": {},
   "outputs": [],
   "source": [
    "df['SampleValues.Val'] = pd.to_numeric(df['SampleValues.Val'], errors='coerce')\n",
    "\n",
    "# # Filter rows where Params.Name is \"Cobalt - Total/NonFilt as Co\" and Params.Units is \"ug/l\"\n",
    "# condition = (df['Params.Name'] == \"Cobalt - Total/NonFilt as Co\") & (df['Params.Units'] == \"ug/l\")\n",
    "\n",
    "# # Check if there are any rows to convert\n",
    "# if condition.any():\n",
    "#     # Convert the values from ug/l to mg/l using .loc to modify the original DataFrame\n",
    "#     df.loc[condition, 'SampleValues.Val'] *= 0.001\n",
    "#     df.loc[condition, 'Params.Units'] = \"mg/l\""
   ]
  },
  {
   "cell_type": "code",
   "execution_count": 3,
   "metadata": {},
   "outputs": [
    {
     "name": "stdout",
     "output_type": "stream",
     "text": [
      "0                           Water Temperature\n",
      "1                       Nitrogen - Total as N\n",
      "2                     Phosphorus as P - Total\n",
      "3              Suspended Solids - Total (TSS)\n",
      "4                                   Turbidity\n",
      "                       ...                   \n",
      "81    Bacillariophyta (Tabellaria flocculosa)\n",
      "82          Cyanobacteria (Aphanizomenon sp.)\n",
      "83            Ochrophyta (Ophiocytiaceae sp.)\n",
      "84               PAR uni-directional in water\n",
      "85                             Sample bottles\n",
      "Name: Params.Name, Length: 86, dtype: object\n"
     ]
    }
   ],
   "source": [
    "## processed_data\n",
    "# Create unique variable datafiles\n",
    "\n",
    "import os\n",
    "import numpy as np\n",
    "\n",
    "mapping_keys_df = pd.read_csv(\"mapping_keys.csv\")\n",
    "\n",
    "def filter_and_save_data(df, variable_name, output_filename):\n",
    "    # Filter rows where the variable is equal to the specified variable_name\n",
    "    variable_data = df.loc[df['Variable'] == variable_name]\n",
    "\n",
    "    # Extract columns needed for the filtered data\n",
    "    filtered_data = variable_data.loc[:, [\"Variable\", \"Date\", \"Depth\", \"Data\", \"QC\"]]\n",
    "\n",
    "    # Replace empty cells with NaN\n",
    "    filtered_data.replace(\"\", np.nan, inplace=True)\n",
    "\n",
    "    # Set Data value to NaN where QC value is 140\n",
    "    filtered_data.loc[filtered_data[\"QC\"] == \"140\", \"Data\"] = np.nan\n",
    "\n",
    "    # Convert value of different units\n",
    "    if variable_name in mapping_keys_df['Params.Name'].values:\n",
    "        conv_factor = mapping_keys_df.loc[mapping_keys_df['Params.Name'] == variable_name, 'Conv'].iloc[0]\n",
    "        filtered_data['Data'] = pd.to_numeric(filtered_data['Data'], errors='coerce')  # Convert non-numeric values to NaN\n",
    "        filtered_data['Data'] *= conv_factor\n",
    "\n",
    "    # Specify the directory path\n",
    "    directory = 'processed_data'\n",
    "    \n",
    "    # Create the directory if it doesn't exist\n",
    "    if not os.path.exists(directory):\n",
    "        os.makedirs(directory)\n",
    "\n",
    "    # Write the filtered DataFrame to a CSV file in the specified directory\n",
    "    filtered_data.to_csv(os.path.join(directory, output_filename), index=False)\n",
    "\n",
    "# Create unique variable datafiles\n",
    "required_columns = df.loc[1:, [\"Params.Name\", \"Samples.DateAndTime\", \"SampleDepths.Depth\", \"SampleValues.Val\", \"SampleValues.Quality\"]]\n",
    "required_columns.columns = [\"Variable\", \"Date\", \"Depth\", \"Data\", \"QC\"]\n",
    "\n",
    "# Convert the 'Date' column to datetime format\n",
    "required_columns['Date'] = pd.to_datetime(required_columns['Date'], format='%d/%m/%Y %H:%M', errors='coerce')\n",
    "\n",
    "# Convert date to desired format\n",
    "required_columns['Date'] = required_columns['Date'].dt.strftime('%Y-%m-%d %H:%M:%S')\n",
    "\n",
    "required_columns = required_columns.sort_values(by='Date')\n",
    "\n",
    "# Replace empty cells with NaN\n",
    "required_columns.replace(\"\", np.nan, inplace=True)\n",
    "\n",
    "# Specify the variables needed\n",
    "first_column = mapping_keys_df.iloc[:, 0]\n",
    "first_column.values.tolist()\n",
    "print(first_column)\n",
    "\n",
    "# Iterate over variables, find the key value, and save filtered data\n",
    "for variable in first_column:\n",
    "    # Filter mapping_keys_df to find the row corresponding to the variable\n",
    "    key_row = mapping_keys_df[mapping_keys_df['Params.Name'] == variable]\n",
    "    \n",
    "    # Extract the key value from the row\n",
    "    key_value = key_row['Key Value'].values[0] if not key_row.empty else None\n",
    "    \n",
    "    # Construct the output filename\n",
    "    output_filename = f'ArthursLakeSpillway_{key_value.replace(\" \", \"\")}_profile_Data.csv'\n",
    "    \n",
    "    # Filter and save data\n",
    "    filter_and_save_data(required_columns, variable, output_filename)"
   ]
  },
  {
   "cell_type": "code",
   "execution_count": 18,
   "metadata": {},
   "outputs": [],
   "source": [
    "#test = pd.read_csv('processed_data/WoodsLakeMiddle_Water Temperature_profile_Data.csv', encoding = 'unicode_escape')"
   ]
  }
 ],
 "metadata": {
  "kernelspec": {
   "display_name": "Python 3",
   "language": "python",
   "name": "python3"
  },
  "language_info": {
   "codemirror_mode": {
    "name": "ipython",
    "version": 3
   },
   "file_extension": ".py",
   "mimetype": "text/x-python",
   "name": "python",
   "nbconvert_exporter": "python",
   "pygments_lexer": "ipython3",
   "version": "3.11.5"
  }
 },
 "nbformat": 4,
 "nbformat_minor": 2
}
