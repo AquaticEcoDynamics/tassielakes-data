{
 "cells": [
  {
   "cell_type": "code",
   "execution_count": 1,
   "metadata": {},
   "outputs": [
    {
     "name": "stdout",
     "output_type": "stream",
     "text": [
      "                      Date  Data\n",
      "0      01/01/2015 01:00:00   0.0\n",
      "1      01/01/2015 02:00:00   0.0\n",
      "2      01/01/2015 03:00:00   0.0\n",
      "3      01/01/2015 04:00:00   0.0\n",
      "4      01/01/2015 05:00:00   0.0\n",
      "...                    ...   ...\n",
      "82099  13/05/2024 20:00:00   0.0\n",
      "82100  13/05/2024 21:00:00   0.0\n",
      "82101  13/05/2024 22:00:00   0.0\n",
      "82102  13/05/2024 23:00:00   0.0\n",
      "82103  14/05/2024 00:00:00   0.0\n",
      "\n",
      "[82104 rows x 2 columns]\n"
     ]
    }
   ],
   "source": [
    "import pandas as pd\n",
    "\n",
    "# Read the CSV file and select only the first column\n",
    "df = pd.read_csv(\"../../data-lake/HT/Hydrology/Arthurs Lake Spillway (418.1)/SpillwayDischarge.csv\", usecols=[0], header=None, encoding='unicode_escape')\n",
    "\n",
    "df = df.iloc[1:,:]\n",
    "\n",
    "# Reset the index of the DataFrame\n",
    "df = df.reset_index(drop=True)\n",
    "\n",
    "# Name the first column\n",
    "df.columns = [\"Raw\"]\n",
    "\n",
    "# Split the 'Raw' column by multiple spaces\n",
    "split_data = df[\"Raw\"].str.split(r'\\s+', expand=True)\n",
    "#print(split_data)\n",
    "\n",
    "# Split the 'Raw' column by multiple spaces\n",
    "split_data = df[\"Raw\"].str.split(r'\\s+', expand=True)\n",
    "\n",
    "# Extract Date and Time\n",
    "df['Date'] = split_data[0] + ' ' + split_data[2]\n",
    "\n",
    "# Extract Data value\n",
    "df['Data'] = split_data[3]\n",
    "\n",
    "# Drop the original 'Raw' column\n",
    "df = df[['Date', 'Data']]\n",
    "\n",
    "# Convert 'Data' to numeric\n",
    "df['Data'] = pd.to_numeric(df['Data'], errors='coerce')\n",
    "print(df)\n"
   ]
  },
  {
   "cell_type": "code",
   "execution_count": 2,
   "metadata": {},
   "outputs": [
    {
     "name": "stdout",
     "output_type": "stream",
     "text": [
      "                     Date  Data\n",
      "0     2015-01-01 01:00:00   0.0\n",
      "1     2015-01-01 02:00:00   0.0\n",
      "2     2015-01-01 03:00:00   0.0\n",
      "3     2015-01-01 04:00:00   0.0\n",
      "4     2015-01-01 05:00:00   0.0\n",
      "...                   ...   ...\n",
      "82099 2024-05-13 20:00:00   0.0\n",
      "82100 2024-05-13 21:00:00   0.0\n",
      "82101 2024-05-13 22:00:00   0.0\n",
      "82102 2024-05-13 23:00:00   0.0\n",
      "82103 2024-05-14 00:00:00   0.0\n",
      "\n",
      "[82104 rows x 2 columns]\n"
     ]
    }
   ],
   "source": [
    "# Convert 'Date' to datetime format\n",
    "df['Date'] = pd.to_datetime(df['Date'], format='%d/%m/%Y %H:%M:%S', errors='coerce')\n",
    "\n",
    "# Drop rows with NaT in 'Date' column\n",
    "df = df.dropna(subset=['Date'])\n",
    "\n",
    "print(df)"
   ]
  },
  {
   "cell_type": "code",
   "execution_count": 3,
   "metadata": {},
   "outputs": [
    {
     "name": "stdout",
     "output_type": "stream",
     "text": [
      "                      Date  Data\n",
      "0      2015-01-01 01:00:00   0.0\n",
      "1      2015-01-01 01:15:00   0.0\n",
      "2      2015-01-01 01:30:00   0.0\n",
      "3      2015-01-01 01:45:00   0.0\n",
      "4      2015-01-01 02:00:00   0.0\n",
      "...                    ...   ...\n",
      "328408 2024-05-13 23:00:00   0.0\n",
      "328409 2024-05-13 23:15:00   0.0\n",
      "328410 2024-05-13 23:30:00   0.0\n",
      "328411 2024-05-13 23:45:00   0.0\n",
      "328412 2024-05-14 00:00:00   0.0\n",
      "\n",
      "[328413 rows x 2 columns]\n"
     ]
    }
   ],
   "source": [
    "# Group by 'Date' and average the 'Data' values for duplicate timestamps\n",
    "df = df.groupby('Date').mean().reset_index()\n",
    "\n",
    "# Set 'Date' as index for resampling\n",
    "df.set_index('Date', inplace=True)\n",
    "\n",
    "# Resample the DataFrame to 15-minute intervals and interpolate\n",
    "df = df.resample('15T').interpolate(method='linear')\n",
    "\n",
    "# Reset the index to convert it back to a column\n",
    "df = df.reset_index()\n",
    "\n",
    "# Resample the DataFrame to hourly intervals and interpolate\n",
    "# df = df.resample('H').interpolate(method='linear')\n",
    "\n",
    "print(df)"
   ]
  },
  {
   "cell_type": "code",
   "execution_count": 4,
   "metadata": {},
   "outputs": [],
   "source": [
    "# Write the DataFrame to a CSV file\n",
    "df.to_csv(\"Interpolated_418.1_ArthursSpillway.csv\", index=False)"
   ]
  }
 ],
 "metadata": {
  "kernelspec": {
   "display_name": "Python 3",
   "language": "python",
   "name": "python3"
  },
  "language_info": {
   "codemirror_mode": {
    "name": "ipython",
    "version": 3
   },
   "file_extension": ".py",
   "mimetype": "text/x-python",
   "name": "python",
   "nbconvert_exporter": "python",
   "pygments_lexer": "ipython3",
   "version": "3.11.5"
  }
 },
 "nbformat": 4,
 "nbformat_minor": 2
}
