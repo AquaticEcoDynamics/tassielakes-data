{
 "cells": [
  {
   "cell_type": "code",
   "execution_count": 15,
   "metadata": {},
   "outputs": [
    {
     "name": "stdout",
     "output_type": "stream",
     "text": [
      "                   Date   Data\n",
      "0      18/09/2015 18:00  0.810\n",
      "1      18/09/2015 19:00  0.807\n",
      "2      18/09/2015 20:00  0.803\n",
      "3      18/09/2015 21:00  0.799\n",
      "4      18/09/2015 22:00  0.796\n",
      "...                 ...    ...\n",
      "76191   28/05/2024 9:00  0.274\n",
      "76192  28/05/2024 10:00  0.274\n",
      "76193  28/05/2024 11:00  0.274\n",
      "76194  28/05/2024 12:00  0.274\n",
      "76195  28/05/2024 13:00  0.274\n",
      "\n",
      "[76196 rows x 2 columns]\n"
     ]
    }
   ],
   "source": [
    "import pandas as pd\n",
    "\n",
    "# Read the CSV file and select only the first column\n",
    "df = pd.read_csv(\"raw/SWIFT Natural Pickup Simulation.csv\", header=None, encoding='unicode_escape')\n",
    "\n",
    "df = df.iloc[23:,:]\n",
    "\n",
    "# Reset the index of the DataFrame\n",
    "df = df.reset_index(drop=True)\n",
    "\n",
    "df.columns = [\"Date\", \"Data\"]\n",
    "\n",
    "# Convert 'Data' to numeric\n",
    "df['Data'] = pd.to_numeric(df['Data'], errors='coerce')\n",
    "print(df)\n"
   ]
  },
  {
   "cell_type": "code",
   "execution_count": 16,
   "metadata": {},
   "outputs": [
    {
     "name": "stdout",
     "output_type": "stream",
     "text": [
      "                     Date   Data\n",
      "294   2015-01-10 00:00:00  0.564\n",
      "295   2015-01-10 01:00:00  0.562\n",
      "296   2015-01-10 02:00:00  0.561\n",
      "297   2015-01-10 03:00:00  0.559\n",
      "298   2015-01-10 04:00:00  0.557\n",
      "...                   ...    ...\n",
      "75817 2024-12-05 19:00:00  0.272\n",
      "75818 2024-12-05 20:00:00  0.272\n",
      "75819 2024-12-05 21:00:00  0.272\n",
      "75820 2024-12-05 22:00:00  0.272\n",
      "75821 2024-12-05 23:00:00  0.272\n",
      "\n",
      "[76196 rows x 2 columns]\n"
     ]
    }
   ],
   "source": [
    "import numpy as np\n",
    "\n",
    "# Convert the 'Date' column to datetime format\n",
    "df['Date'] = pd.to_datetime(df['Date'], format='%d/%m/%Y %H:%M', errors='coerce')\n",
    "\n",
    "# Convert date to desired format\n",
    "# df['Date'] = df['Date'].dt.strftime('%Y-%m-%d %H:%M:%S')\n",
    "\n",
    "# Drop rows with NaT in 'Date' column\n",
    "df = df.dropna(subset=['Date'])\n",
    "\n",
    "df = df.sort_values(by='Date')\n",
    "\n",
    "# Replace empty cells with NaN\n",
    "df.replace(\"\", np.nan, inplace=True)\n",
    "\n",
    "print(df)"
   ]
  },
  {
   "cell_type": "code",
   "execution_count": 17,
   "metadata": {},
   "outputs": [
    {
     "name": "stdout",
     "output_type": "stream",
     "text": [
      "                      Date    Data\n",
      "0      2015-01-10 00:00:00  0.5640\n",
      "1      2015-01-10 00:15:00  0.5635\n",
      "2      2015-01-10 00:30:00  0.5630\n",
      "3      2015-01-10 00:45:00  0.5625\n",
      "4      2015-01-10 01:00:00  0.5620\n",
      "...                    ...     ...\n",
      "347320 2024-12-05 22:00:00  0.2720\n",
      "347321 2024-12-05 22:15:00  0.2720\n",
      "347322 2024-12-05 22:30:00  0.2720\n",
      "347323 2024-12-05 22:45:00  0.2720\n",
      "347324 2024-12-05 23:00:00  0.2720\n",
      "\n",
      "[347325 rows x 2 columns]\n"
     ]
    }
   ],
   "source": [
    "# Group by 'Date' and average the 'Data' values for duplicate timestamps\n",
    "df = df.groupby('Date').mean().reset_index()\n",
    "\n",
    "# Set 'Date' as index for resampling\n",
    "df.set_index('Date', inplace=True)\n",
    "\n",
    "# Resample the DataFrame to 15-minute intervals and interpolate\n",
    "df = df.resample('15T').interpolate(method='linear')\n",
    "\n",
    "# Reset the index to convert it back to a column\n",
    "df = df.reset_index()\n",
    "\n",
    "# Assuming your DataFrame is named df\n",
    "df['Data'] = df['Data'].clip(lower=0)\n",
    "\n",
    "# Resample the DataFrame to hourly intervals and interpolate\n",
    "# df = df.resample('H').interpolate(method='linear')\n",
    "\n",
    "print(df)"
   ]
  },
  {
   "cell_type": "code",
   "execution_count": 18,
   "metadata": {},
   "outputs": [],
   "source": [
    "# Write the DataFrame to a CSV file\n",
    "df.to_csv(\"Interpolated_SWIFTnatural_Inflow.csv\", index=False)"
   ]
  }
 ],
 "metadata": {
  "kernelspec": {
   "display_name": "Python 3",
   "language": "python",
   "name": "python3"
  },
  "language_info": {
   "codemirror_mode": {
    "name": "ipython",
    "version": 3
   },
   "file_extension": ".py",
   "mimetype": "text/x-python",
   "name": "python",
   "nbconvert_exporter": "python",
   "pygments_lexer": "ipython3",
   "version": "3.11.5"
  }
 },
 "nbformat": 4,
 "nbformat_minor": 2
}
