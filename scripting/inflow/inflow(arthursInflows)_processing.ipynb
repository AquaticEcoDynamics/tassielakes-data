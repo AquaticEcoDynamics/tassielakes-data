{
 "cells": [
  {
   "cell_type": "code",
   "execution_count": 1,
   "metadata": {},
   "outputs": [
    {
     "name": "stdout",
     "output_type": "stream",
     "text": [
      "                      Date       Data\n",
      "0      08/09/2017 13:00:00   1.957236\n",
      "1      08/09/2017 14:00:00  11.142556\n",
      "2      08/09/2017 15:00:00   8.770267\n",
      "3      08/09/2017 16:00:00   1.654670\n",
      "4      08/09/2017 17:00:00  -0.717614\n",
      "...                    ...        ...\n",
      "58543  13/05/2024 20:00:00  -0.652542\n",
      "58544  13/05/2024 21:00:00  -0.652593\n",
      "58545  13/05/2024 22:00:00  -0.652644\n",
      "58546  13/05/2024 23:00:00  -0.652694\n",
      "58547  14/05/2024 00:00:00  -0.643066\n",
      "\n",
      "[58548 rows x 2 columns]\n"
     ]
    }
   ],
   "source": [
    "import pandas as pd\n",
    "\n",
    "# Read the CSV file and select only the first column\n",
    "df = pd.read_csv(\"../../data-lake/HT/Hydrology/Arthurs Lake Spillway (418.1)/Inflow.csv\", usecols=[0], header=None, encoding='unicode_escape')\n",
    "\n",
    "df = df.iloc[1:,:]\n",
    "\n",
    "# Reset the index of the DataFrame\n",
    "df = df.reset_index(drop=True)\n",
    "\n",
    "# Name the first column\n",
    "df.columns = [\"Raw\"]\n",
    "\n",
    "# Split the 'Raw' column by multiple spaces\n",
    "split_data = df[\"Raw\"].str.split(r'\\s+', expand=True)\n",
    "#print(split_data)\n",
    "\n",
    "# Split the 'Raw' column by multiple spaces\n",
    "split_data = df[\"Raw\"].str.split(r'\\s+', expand=True)\n",
    "\n",
    "# Extract Date and Time\n",
    "df['Date'] = split_data[0] + ' ' + split_data[2]\n",
    "\n",
    "# Extract Data value\n",
    "df['Data'] = split_data[3]\n",
    "\n",
    "# Drop the original 'Raw' column\n",
    "df = df[['Date', 'Data']]\n",
    "\n",
    "# Convert 'Data' to numeric\n",
    "df['Data'] = pd.to_numeric(df['Data'], errors='coerce')\n",
    "print(df)\n"
   ]
  },
  {
   "cell_type": "code",
   "execution_count": 2,
   "metadata": {},
   "outputs": [
    {
     "name": "stdout",
     "output_type": "stream",
     "text": [
      "                     Date       Data\n",
      "0     2017-09-08 13:00:00   1.957236\n",
      "1     2017-09-08 14:00:00  11.142556\n",
      "2     2017-09-08 15:00:00   8.770267\n",
      "3     2017-09-08 16:00:00   1.654670\n",
      "4     2017-09-08 17:00:00  -0.717614\n",
      "...                   ...        ...\n",
      "58543 2024-05-13 20:00:00  -0.652542\n",
      "58544 2024-05-13 21:00:00  -0.652593\n",
      "58545 2024-05-13 22:00:00  -0.652644\n",
      "58546 2024-05-13 23:00:00  -0.652694\n",
      "58547 2024-05-14 00:00:00  -0.643066\n",
      "\n",
      "[58548 rows x 2 columns]\n"
     ]
    }
   ],
   "source": [
    "# Convert 'Date' to datetime format\n",
    "df['Date'] = pd.to_datetime(df['Date'], format='%d/%m/%Y %H:%M:%S', errors='coerce')\n",
    "\n",
    "# Drop rows with NaT in 'Date' column\n",
    "df = df.dropna(subset=['Date'])\n",
    "\n",
    "print(df)"
   ]
  },
  {
   "cell_type": "code",
   "execution_count": 3,
   "metadata": {},
   "outputs": [
    {
     "name": "stdout",
     "output_type": "stream",
     "text": [
      "                      Date       Data\n",
      "0      2017-09-08 13:00:00   1.957236\n",
      "1      2017-09-08 13:15:00   4.253566\n",
      "2      2017-09-08 13:30:00   6.549896\n",
      "3      2017-09-08 13:45:00   8.846226\n",
      "4      2017-09-08 14:00:00  11.142556\n",
      "...                    ...        ...\n",
      "234184 2024-05-13 23:00:00   0.000000\n",
      "234185 2024-05-13 23:15:00   0.000000\n",
      "234186 2024-05-13 23:30:00   0.000000\n",
      "234187 2024-05-13 23:45:00   0.000000\n",
      "234188 2024-05-14 00:00:00   0.000000\n",
      "\n",
      "[234189 rows x 2 columns]\n"
     ]
    }
   ],
   "source": [
    "# Group by 'Date' and average the 'Data' values for duplicate timestamps\n",
    "df = df.groupby('Date').mean().reset_index()\n",
    "\n",
    "# Set 'Date' as index for resampling\n",
    "df.set_index('Date', inplace=True)\n",
    "\n",
    "# Resample the DataFrame to 15-minute intervals and interpolate\n",
    "df = df.resample('15T').interpolate(method='linear')\n",
    "\n",
    "# Reset the index to convert it back to a column\n",
    "df = df.reset_index()\n",
    "\n",
    "# Assuming your DataFrame is named df\n",
    "df['Data'] = df['Data'].clip(lower=0)\n",
    "\n",
    "# Resample the DataFrame to hourly intervals and interpolate\n",
    "# df = df.resample('H').interpolate(method='linear')\n",
    "\n",
    "print(df)"
   ]
  },
  {
   "cell_type": "code",
   "execution_count": 4,
   "metadata": {},
   "outputs": [],
   "source": [
    "# Write the DataFrame to a CSV file\n",
    "df.to_csv(\"Interpolated_418.1_ArthursInflow.csv\", index=False)"
   ]
  }
 ],
 "metadata": {
  "kernelspec": {
   "display_name": "Python 3",
   "language": "python",
   "name": "python3"
  },
  "language_info": {
   "codemirror_mode": {
    "name": "ipython",
    "version": 3
   },
   "file_extension": ".py",
   "mimetype": "text/x-python",
   "name": "python",
   "nbconvert_exporter": "python",
   "pygments_lexer": "ipython3",
   "version": "3.11.5"
  }
 },
 "nbformat": 4,
 "nbformat_minor": 2
}
