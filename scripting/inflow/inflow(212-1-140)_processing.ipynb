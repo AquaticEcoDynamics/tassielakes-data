{
 "cells": [
  {
   "cell_type": "code",
   "execution_count": 1,
   "metadata": {},
   "outputs": [
    {
     "name": "stdout",
     "output_type": "stream",
     "text": [
      "                     Date      Data\n",
      "0     02/01/2000 00:00:00  0.000000\n",
      "1     03/01/2000 00:00:00  0.000000\n",
      "2     04/01/2000 00:00:00  0.000000\n",
      "3     05/01/2000 00:00:00  0.000000\n",
      "4     06/01/2000 00:00:00  0.000000\n",
      "...                   ...       ...\n",
      "8912  27/05/2024 00:00:00  0.489494\n",
      "8913  28/05/2024 00:00:00  0.488203\n",
      "8914  29/05/2024 00:00:00  0.486987\n",
      "8915  30/05/2024 00:00:00  0.487166\n",
      "8916  31/05/2024 00:00:00  0.508655\n",
      "\n",
      "[8917 rows x 2 columns]\n"
     ]
    }
   ],
   "source": [
    "import pandas as pd\n",
    "\n",
    "# Read the CSV file and select only the first column\n",
    "df = pd.read_csv(\"raw/212-1-140.csv\", usecols=[0], header=None, encoding='unicode_escape')\n",
    "\n",
    "df = df.iloc[1:,:]\n",
    "\n",
    "# Reset the index of the DataFrame\n",
    "df = df.reset_index(drop=True)\n",
    "\n",
    "# Name the first column\n",
    "df.columns = [\"Raw\"]\n",
    "\n",
    "# Split the 'Raw' column by multiple spaces\n",
    "split_data = df[\"Raw\"].str.split(r'\\s+', expand=True)\n",
    "#print(split_data)\n",
    "\n",
    "# Split the 'Raw' column by multiple spaces\n",
    "split_data = df[\"Raw\"].str.split(r'\\s+', expand=True)\n",
    "\n",
    "# Extract Date and Time\n",
    "df['Date'] = split_data[0] + ' ' + split_data[2]\n",
    "\n",
    "# Extract Data value\n",
    "df['Data'] = split_data[3]\n",
    "\n",
    "# Drop the original 'Raw' column\n",
    "df = df[['Date', 'Data']]\n",
    "\n",
    "# Convert 'Data' to numeric\n",
    "df['Data'] = pd.to_numeric(df['Data'], errors='coerce')\n",
    "print(df)\n"
   ]
  },
  {
   "cell_type": "code",
   "execution_count": 2,
   "metadata": {},
   "outputs": [
    {
     "name": "stdout",
     "output_type": "stream",
     "text": [
      "           Date      Data\n",
      "0    2000-01-02  0.000000\n",
      "1    2000-01-03  0.000000\n",
      "2    2000-01-04  0.000000\n",
      "3    2000-01-05  0.000000\n",
      "4    2000-01-06  0.000000\n",
      "...         ...       ...\n",
      "8912 2024-05-27  0.489494\n",
      "8913 2024-05-28  0.488203\n",
      "8914 2024-05-29  0.486987\n",
      "8915 2024-05-30  0.487166\n",
      "8916 2024-05-31  0.508655\n",
      "\n",
      "[8917 rows x 2 columns]\n"
     ]
    }
   ],
   "source": [
    "# Convert 'Date' to datetime format\n",
    "df['Date'] = pd.to_datetime(df['Date'], format='%d/%m/%Y %H:%M:%S', errors='coerce')\n",
    "\n",
    "# Drop rows with NaT in 'Date' column\n",
    "df = df.dropna(subset=['Date'])\n",
    "\n",
    "print(df)"
   ]
  },
  {
   "cell_type": "code",
   "execution_count": 3,
   "metadata": {},
   "outputs": [
    {
     "name": "stdout",
     "output_type": "stream",
     "text": [
      "                      Date      Data\n",
      "0      2000-01-02 00:00:00  0.000000\n",
      "1      2000-01-02 00:15:00  0.000000\n",
      "2      2000-01-02 00:30:00  0.000000\n",
      "3      2000-01-02 00:45:00  0.000000\n",
      "4      2000-01-02 01:00:00  0.000000\n",
      "...                    ...       ...\n",
      "855932 2024-05-30 23:00:00  0.507760\n",
      "855933 2024-05-30 23:15:00  0.507983\n",
      "855934 2024-05-30 23:30:00  0.508207\n",
      "855935 2024-05-30 23:45:00  0.508431\n",
      "855936 2024-05-31 00:00:00  0.508655\n",
      "\n",
      "[855937 rows x 2 columns]\n"
     ]
    }
   ],
   "source": [
    "# Group by 'Date' and average the 'Data' values for duplicate timestamps\n",
    "df = df.groupby('Date').mean().reset_index()\n",
    "\n",
    "# Set 'Date' as index for resampling\n",
    "df.set_index('Date', inplace=True)\n",
    "\n",
    "# Resample the DataFrame to 15-minute intervals and interpolate\n",
    "df = df.resample('15T').interpolate(method='linear')\n",
    "\n",
    "# Reset the index to convert it back to a column\n",
    "df = df.reset_index()\n",
    "\n",
    "# Assuming your DataFrame is named df\n",
    "df['Data'] = df['Data'].clip(lower=0)\n",
    "\n",
    "# Resample the DataFrame to hourly intervals and interpolate\n",
    "# df = df.resample('H').interpolate(method='linear')\n",
    "\n",
    "print(df)"
   ]
  },
  {
   "cell_type": "code",
   "execution_count": 4,
   "metadata": {},
   "outputs": [],
   "source": [
    "# Write the DataFrame to a CSV file\n",
    "df.to_csv(\"Interpolated_212-1-140_Inflow.csv\", index=False)"
   ]
  }
 ],
 "metadata": {
  "kernelspec": {
   "display_name": "Python 3",
   "language": "python",
   "name": "python3"
  },
  "language_info": {
   "codemirror_mode": {
    "name": "ipython",
    "version": 3
   },
   "file_extension": ".py",
   "mimetype": "text/x-python",
   "name": "python",
   "nbconvert_exporter": "python",
   "pygments_lexer": "ipython3",
   "version": "3.11.5"
  }
 },
 "nbformat": 4,
 "nbformat_minor": 2
}
